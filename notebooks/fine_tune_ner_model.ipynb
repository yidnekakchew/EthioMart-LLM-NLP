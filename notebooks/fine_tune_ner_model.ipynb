{
 "cells": [
  {
   "cell_type": "markdown",
   "metadata": {},
   "source": [
    "# Fine-Tune NER Model for Amharic Telegram Messages\n",
    "\n",
    "## Objective\n",
    "Fine-tune a Named Entity Recognition (NER) model to extract key entities (e.g., products, prices, and locations) from Amharic Telegram messages.\n",
    "\n",
    "## Requirements\n",
    "- Google Colab or any environment with GPU support.\n",
    "- Necessary libraries: Transformers, Datasets, Pandas, etc.\n",
    "\n",
    "## Steps to Follow\n",
    "\n",
    "### Step 1: Install Necessary Libraries\n",
    "```python\n",
    "!pip install transformers datasets"
   ]
  }
 ],
 "metadata": {
  "language_info": {
   "name": "python"
  }
 },
 "nbformat": 4,
 "nbformat_minor": 2
}
